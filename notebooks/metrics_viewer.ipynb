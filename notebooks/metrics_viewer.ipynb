{
 "cells": [
  {
   "cell_type": "code",
   "execution_count": null,
   "id": "a258b21a",
   "metadata": {},
   "outputs": [],
   "source": [
    "import pandas as pd\n",
    "import matplotlib.pyplot as plt\n",
    "from pathlib import Path"
   ]
  },
  {
   "cell_type": "code",
   "execution_count": null,
   "id": "cb10d439",
   "metadata": {},
   "outputs": [],
   "source": [
    "while True:\n",
    "    log_dir = Path(input(\"Enter log directory: \"))\n",
    "    if log_dir.exists():\n",
    "        break\n",
    "    else:\n",
    "        print(\"Log directory does not exist. Please try again.\")\n",
    "\n",
    "metrics = pd.read_csv(log_dir / \"metrics.csv\")"
   ]
  },
  {
   "cell_type": "code",
   "execution_count": null,
   "id": "ae2c56e8",
   "metadata": {},
   "outputs": [],
   "source": [
    "fig, axs = plt.subplots(2, 2, figsize=(8, 8))\n",
    "axs[0, 0].set_title(\"Loss\", fontsize=10)\n",
    "axs[0, 0].plot(metrics[\"train_loss\"].dropna().values, \".-\", label=\"Train\")\n",
    "axs[0, 0].plot(metrics[\"val_loss\"].dropna().values, \".-\", label=\"Val\")\n",
    "\n",
    "axs[0, 1].set_title(\"Precision\", fontsize=10)\n",
    "axs[0, 1].set_ylim(0, 1)\n",
    "axs[0, 1].plot(metrics[\"train_precision\"].dropna().values, \".-\", label=\"Train\")\n",
    "axs[0, 1].plot(metrics[\"val_precision\"].dropna().values, \".-\", label=\"Val\")\n",
    "\n",
    "axs[1, 0].set_title(\"Recall\", fontsize=10)\n",
    "axs[1, 0].set_ylim(0, 1)\n",
    "axs[1, 0].plot(metrics[\"train_recall\"].dropna().values, \".-\", label=\"Train\")\n",
    "axs[1, 0].plot(metrics[\"val_recall\"].dropna().values, \".-\", label=\"Val\")\n",
    "\n",
    "axs[1, 1].set_title(\"F1\", fontsize=10)\n",
    "axs[1, 1].set_ylim(0, 1)\n",
    "axs[1, 1].plot(metrics[\"train_f1\"].dropna().values, \".-\", label=\"Train\")\n",
    "axs[1, 1].plot(metrics[\"val_f1\"].dropna().values, \".-\", label=\"Val\")\n",
    "\n",
    "for ax in axs.ravel():\n",
    "    ax.legend()\n",
    "    ax.set_xlabel(\"Epoch\")\n",
    "    ax.set_xticks(range(0, metrics[\"epoch\"].max() + 1))\n",
    "\n",
    "fig.tight_layout()\n",
    "plt.show()"
   ]
  }
 ],
 "metadata": {
  "kernelspec": {
   "display_name": "gpa",
   "language": "python",
   "name": "python3"
  },
  "language_info": {
   "codemirror_mode": {
    "name": "ipython",
    "version": 3
   },
   "file_extension": ".py",
   "mimetype": "text/x-python",
   "name": "python",
   "nbconvert_exporter": "python",
   "pygments_lexer": "ipython3",
   "version": "3.10.16"
  }
 },
 "nbformat": 4,
 "nbformat_minor": 5
}
