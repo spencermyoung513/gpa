{
 "cells": [
  {
   "cell_type": "markdown",
   "id": "7f15d45f",
   "metadata": {},
   "source": [
    "This notebook visualizes the following graph subsampling strategy: For each input graph, we randomly sample a subset of the (product-price) edges and return the subgraph induced by those edges.\n",
    "\n",
    "For the sake of visual clarity, edges between product nodes with the same UPC are not shown (we only visualize prod-price edges)."
   ]
  },
  {
   "cell_type": "code",
   "execution_count": 58,
   "id": "ed4377f2",
   "metadata": {},
   "outputs": [],
   "source": [
    "import ipywidgets as widgets\n",
    "from IPython.display import display, clear_output\n",
    "from pathlib import Path\n",
    "from tqdm.notebook import tqdm\n",
    "\n",
    "import matplotlib.pyplot as plt\n",
    "import pandas as pd\n",
    "import torch\n",
    "\n",
    "from gpa.datasets.attribution import PriceAttributionDataset, DetectionGraph"
   ]
  },
  {
   "cell_type": "code",
   "execution_count": 43,
   "id": "4b0fce30",
   "metadata": {},
   "outputs": [],
   "source": [
    "while True:\n",
    "    dataset_dir = Path(input(\"Input the dataset directory: \"))\n",
    "    if dataset_dir.exists() and dataset_dir.is_dir():\n",
    "        break\n",
    "    print(\"Invalid dataset directory. Please try again.\")\n",
    "\n",
    "dataset = PriceAttributionDataset(root=dataset_dir)\n",
    "products_df = pd.read_csv(\n",
    "    dataset_dir / \"raw\" / \"product_boxes.csv\", index_col=\"attributionset_id\"\n",
    ")"
   ]
  },
  {
   "cell_type": "code",
   "execution_count": 44,
   "id": "27aea738",
   "metadata": {},
   "outputs": [],
   "source": [
    "def get_random_subgraph(graph: DetectionGraph, p: float = 0.5) -> DetectionGraph:\n",
    "    \"\"\"Randomly sample a subgraph from the given graph.\n",
    "\n",
    "    Subgraphs are sampled by applying independent Bernoulli(p) random variables to each edge in the known product-price graph.\n",
    "\n",
    "    Args:\n",
    "        graph (DetectionGraph): Original detection graph.\n",
    "        p (float): Probability of keeping any given edge.\n",
    "\n",
    "    Returns:\n",
    "        DetectionGraph: Subgraph sampled from the original graph.\n",
    "    \"\"\"\n",
    "    unique_edges = torch.tensor(\n",
    "        list(\n",
    "            set(\n",
    "                map(\n",
    "                    lambda x: tuple(sorted(x)),\n",
    "                    graph.gt_prod_price_edge_index.T.tolist(),\n",
    "                )\n",
    "            )\n",
    "        )\n",
    "    ).T\n",
    "    if unique_edges.numel() == 0:\n",
    "        return graph\n",
    "    keep_edges = torch.rand(unique_edges.shape[1]) < p\n",
    "    unique_edges = unique_edges[:, keep_edges]\n",
    "    sampled_edge_index = torch.cat([unique_edges, unique_edges.flip(0)], dim=1)\n",
    "\n",
    "    return DetectionGraph(\n",
    "        x=graph.x,\n",
    "        edge_index=sampled_edge_index,\n",
    "        edge_attr=torch.ones(sampled_edge_index.shape[1]),\n",
    "        graph_id=graph.graph_id,\n",
    "        bbox_ids=graph.bbox_ids,\n",
    "        product_indices=graph.product_indices,\n",
    "        price_indices=graph.price_indices,\n",
    "        shared_upc_edge_index=graph.shared_upc_edge_index,\n",
    "        gt_prod_price_edge_index=graph.gt_prod_price_edge_index,\n",
    "    )"
   ]
  },
  {
   "cell_type": "code",
   "execution_count": 45,
   "id": "32a03ba0",
   "metadata": {},
   "outputs": [
    {
     "data": {
      "application/vnd.jupyter.widget-view+json": {
       "model_id": "367978cc8d9f447992f8535ff516cf3d",
       "version_major": 2,
       "version_minor": 0
      },
      "text/plain": [
       "VBox(children=(IntSlider(value=0, description='Graph Index:', max=188), FloatSlider(value=0.5, description='Sa…"
      ]
     },
     "metadata": {},
     "output_type": "display_data"
    }
   ],
   "source": [
    "idx_selector = widgets.IntSlider(\n",
    "    value=0, min=0, max=len(dataset) - 1, description=\"Graph Index:\"\n",
    ")\n",
    "p_selector = widgets.FloatSlider(\n",
    "    value=0.5, min=0, max=1.0, step=0.01, description=\"Sampling p\"\n",
    ")\n",
    "sample_button = widgets.Button(description=\"Sample Subgraph\")\n",
    "output = widgets.Output()\n",
    "\n",
    "\n",
    "def on_sample_button_clicked(b):\n",
    "    with output:\n",
    "        plt.close()\n",
    "        clear_output(wait=True)\n",
    "\n",
    "        fig, axs = plt.subplots(1, 3, figsize=(12, 8))\n",
    "\n",
    "        graph = dataset[idx_selector.value]\n",
    "        p = p_selector.value  # Get current sampling probability\n",
    "        subgraph = get_random_subgraph(graph, p=p)\n",
    "\n",
    "        graph.edge_index = graph.gt_prod_price_edge_index\n",
    "        graph.edge_attr = torch.ones(graph.gt_prod_price_edge_index.shape[1])\n",
    "        graph.plot(ax=axs[0], prod_price_only=True)\n",
    "        subgraph.plot(ax=axs[1], prod_price_only=True)\n",
    "\n",
    "        image_path = (\n",
    "            dataset_dir.parent / products_df.loc[graph.graph_id][\"local_path\"].values[0]\n",
    "        )\n",
    "        image = plt.imread(image_path)\n",
    "        axs[2].imshow(image)\n",
    "        axs[2].set_title(\"Image\")\n",
    "        axs[2].axis(\"off\")\n",
    "\n",
    "        axs[0].set_title(\"Full Graph\")\n",
    "        axs[1].set_title(\"Subgraph\")\n",
    "\n",
    "        fig.tight_layout()\n",
    "        plt.show()\n",
    "\n",
    "\n",
    "def on_index_change(change):\n",
    "    if change[\"name\"] == \"value\":\n",
    "        output.clear_output()\n",
    "\n",
    "\n",
    "idx_selector.observe(on_index_change, names=\"value\")\n",
    "sample_button.on_click(on_sample_button_clicked)\n",
    "\n",
    "display(widgets.VBox([idx_selector, p_selector, sample_button, output]))"
   ]
  },
  {
   "cell_type": "code",
   "execution_count": 57,
   "id": "43132a57",
   "metadata": {},
   "outputs": [],
   "source": [
    "from tempfile import TemporaryDirectory\n",
    "import imageio\n",
    "\n",
    "\n",
    "def generate_sampling_video(graph_idx: int, output_path: str | Path):\n",
    "    p_vals = torch.linspace(0.1, 0.9, 9)\n",
    "    fps = 2\n",
    "    with imageio.get_writer(output_path, fps=fps) as writer:\n",
    "        with TemporaryDirectory() as tmpdir:\n",
    "            tmpdir = Path(tmpdir)\n",
    "            i = 0\n",
    "            for p in p_vals:\n",
    "                for _ in range(5):\n",
    "                    graph = dataset[graph_idx]\n",
    "                    subgraph = get_random_subgraph(graph, p=p)\n",
    "                    graph.edge_index = graph.gt_prod_price_edge_index\n",
    "                    graph.edge_attr = torch.ones(\n",
    "                        graph.gt_prod_price_edge_index.shape[1]\n",
    "                    )\n",
    "\n",
    "                    fig, axs = plt.subplots(1, 3, figsize=(12, 4))\n",
    "                    graph.plot(ax=axs[0], prod_price_only=True)\n",
    "                    subgraph.plot(ax=axs[1], prod_price_only=True)\n",
    "                    image_path = (\n",
    "                        dataset_dir.parent\n",
    "                        / products_df.loc[graph.graph_id][\"local_path\"].values[0]\n",
    "                    )\n",
    "                    image = plt.imread(image_path)\n",
    "                    axs[0].set_title(\"Graph\")\n",
    "                    axs[1].set_title(f\"Subgraph (p={p:.1f})\")\n",
    "                    axs[2].imshow(image)\n",
    "                    axs[2].axis(\"off\")\n",
    "                    fname = tmpdir / f\"frame_{i:04d}.png\"\n",
    "                    fig.savefig(fname)\n",
    "                    plt.close(fig)\n",
    "                    i += 1\n",
    "                    writer.append_data(imageio.v2.imread(fname))"
   ]
  },
  {
   "cell_type": "code",
   "execution_count": 59,
   "id": "6a51e357",
   "metadata": {},
   "outputs": [
    {
     "data": {
      "application/vnd.jupyter.widget-view+json": {
       "model_id": "09c11b301c584cb88d41ccc18440e470",
       "version_major": 2,
       "version_minor": 0
      },
      "text/plain": [
       "  0%|          | 0/5 [00:00<?, ?it/s]"
      ]
     },
     "metadata": {},
     "output_type": "display_data"
    }
   ],
   "source": [
    "indices_of_interest = [0, 1, 4, 12, 15]\n",
    "for idx in tqdm(indices_of_interest):\n",
    "    generate_sampling_video(idx, f\"random_subgraph_sampling_{idx}.mp4\")"
   ]
  },
  {
   "cell_type": "code",
   "execution_count": null,
   "id": "93c3d03a",
   "metadata": {},
   "outputs": [],
   "source": []
  }
 ],
 "metadata": {
  "kernelspec": {
   "display_name": ".venv",
   "language": "python",
   "name": "python3"
  },
  "language_info": {
   "codemirror_mode": {
    "name": "ipython",
    "version": 3
   },
   "file_extension": ".py",
   "mimetype": "text/x-python",
   "name": "python",
   "nbconvert_exporter": "python",
   "pygments_lexer": "ipython3",
   "version": "3.10.17"
  }
 },
 "nbformat": 4,
 "nbformat_minor": 5
}
