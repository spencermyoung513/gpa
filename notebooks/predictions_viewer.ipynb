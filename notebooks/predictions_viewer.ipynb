{
 "cells": [
  {
   "cell_type": "code",
   "execution_count": null,
   "id": "f6a51f80",
   "metadata": {},
   "outputs": [],
   "source": [
    "import os\n",
    "import sys\n",
    "from pathlib import Path\n",
    "\n",
    "sys.path.append(str(Path(os.getcwd()).parent))\n",
    "\n",
    "from copy import deepcopy\n",
    "import pandas as pd\n",
    "import yaml\n",
    "import torch\n",
    "from ipywidgets import widgets\n",
    "from matplotlib import pyplot as plt\n",
    "from seaborn import color_palette\n",
    "\n",
    "from src.common.helpers import plot_bboxes, parse_into_subgraphs\n",
    "from src.datasets.attribution import DetectionGraph\n",
    "from src.datasets.attribution import PriceAttributionDataset\n",
    "from src.configs import TrainingConfig\n",
    "from src.models.attributors import LightningPriceAttributor\n",
    "from src.common.helpers import connect_products_with_nearest_price_tag"
   ]
  },
  {
   "cell_type": "code",
   "execution_count": 3,
   "id": "a628c2f4",
   "metadata": {},
   "outputs": [],
   "source": [
    "while True:\n",
    "    chkp_path = Path(input(\"Input a path to the model checkpoint: \"))\n",
    "    if not chkp_path.exists() or not chkp_path.is_file():\n",
    "        print(\"Invalid checkpoint path. Please try again.\")\n",
    "        continue\n",
    "    break\n",
    "\n",
    "while True:\n",
    "    config_path = Path(input(\"Input a path to the config file: \"))\n",
    "    if not config_path.exists() or not config_path.is_file():\n",
    "        print(\"Invalid config path. Please try again.\")\n",
    "        continue\n",
    "    break"
   ]
  },
  {
   "cell_type": "code",
   "execution_count": 4,
   "id": "d47e6c87",
   "metadata": {},
   "outputs": [],
   "source": [
    "with open(config_path, \"r\") as f:\n",
    "    config = TrainingConfig(**yaml.safe_load(f))\n",
    "dataset_dir = Path(\"..\") / config.dataset_dir / \"val\"\n",
    "dataset = PriceAttributionDataset(root=dataset_dir)\n",
    "products_df = pd.read_csv(dataset_dir / \"raw\"/ \"product_boxes.csv\", index_col=\"attributionset_id\")\n",
    "model = LightningPriceAttributor.load_from_checkpoint(chkp_path)"
   ]
  },
  {
   "cell_type": "code",
   "execution_count": 5,
   "id": "a5a084cf",
   "metadata": {},
   "outputs": [],
   "source": [
    "@torch.inference_mode()\n",
    "def plot_scene_graph(idx: int, dataset: PriceAttributionDataset, model: LightningPriceAttributor, threshold: float = 0.5):\n",
    "    plt.close()\n",
    "    fig, axs = plt.subplots(1, 4, figsize=(15, 4), width_ratios=[1, 1, 1, 2])\n",
    "    graph: DetectionGraph = dataset[idx]\n",
    "    \n",
    "    model.eval()\n",
    "    model.to(device=\"cpu\")\n",
    "    graph.to(device=\"cpu\")\n",
    "    \n",
    "    actual_graph = deepcopy(graph)\n",
    "    actual_graph.edge_index = graph.gt_prod_price_edge_index\n",
    "    actual_graph.edge_attr = torch.ones(len(graph.gt_prod_price_edge_index[0]), 1)\n",
    "    \n",
    "    heuristic_graph = deepcopy(graph)\n",
    "    src, dst = connect_products_with_nearest_price_tag(\n",
    "        centroids=graph.x[:, :2],\n",
    "        product_indices=graph.product_indices,\n",
    "        price_indices=graph.price_indices,\n",
    "    )\n",
    "    heuristic_graph.edge_index = torch.stack([src, dst], dim=0)\n",
    "    heuristic_graph.edge_attr = torch.ones(len(src), 1)\n",
    "    heuristic_graph.plot(ax=axs[0], prod_price_only=True, mark_wrong_edges=True)\n",
    "    axs[0].set_title(\"Heuristic\", fontsize=10)\n",
    "\n",
    "    edge_probs = model.forward(\n",
    "        x=graph.x,\n",
    "        edge_index=graph.edge_index,\n",
    "        edge_attr=graph.edge_attr,\n",
    "        src=src,\n",
    "        dst=dst,\n",
    "    ).sigmoid()\n",
    "    keep = edge_probs > threshold\n",
    "    graph.edge_index = torch.stack([src[keep], dst[keep]], dim=0)\n",
    "    graph.edge_attr = edge_probs[keep].view(-1, 1)\n",
    "    graph.plot(ax=axs[1], prod_price_only=True, mark_wrong_edges=True)\n",
    "    axs[1].set_title(\"Pruned\", fontsize=10)\n",
    "\n",
    "    actual_graph.plot(ax=axs[2], prod_price_only=True)\n",
    "    axs[2].set_title(\"Actual\", fontsize=10)\n",
    "\n",
    "    image_path = dataset_dir.parent / products_df.loc[graph.graph_id][\"local_path\"].values[0]\n",
    "    image = plt.imread(image_path)\n",
    "\n",
    "    height, width = image.shape[:2]\n",
    "\n",
    "    subgraph_indices = parse_into_subgraphs(graph.gt_prod_price_edge_index, graph.num_nodes)\n",
    "    subgraph_ids = torch.unique(subgraph_indices)\n",
    "    colors = color_palette(n_colors=len(subgraph_ids))\n",
    "    for i, color in zip(subgraph_ids, colors):\n",
    "        node_indices = torch.argwhere(subgraph_indices == i).flatten()\n",
    "        if len(node_indices) == 1:\n",
    "            color = (1., 1., 1.)\n",
    "        product_indices = node_indices[torch.isin(node_indices, graph.product_indices)]\n",
    "        price_indices = node_indices[torch.isin(node_indices, graph.price_indices)]\n",
    "        plot_bboxes(graph.x[product_indices, :4], ax=axs[3], color=color, linestyle=\"solid\", width=width, height=height)\n",
    "        plot_bboxes(graph.x[price_indices, :4], ax=axs[3], color=color, linestyle=\"dashed\", width=width, height=height)\n",
    "    \n",
    "    axs[3].imshow(image)\n",
    "    axs[3].axis(\"off\")\n",
    "    \n",
    "    fig.tight_layout()\n",
    "    fig.set_dpi(100)\n",
    "    plt.show()"
   ]
  },
  {
   "cell_type": "code",
   "execution_count": 6,
   "id": "760c87c8",
   "metadata": {},
   "outputs": [
    {
     "data": {
      "application/vnd.jupyter.widget-view+json": {
       "model_id": "f11222b54212422695d741e4601b9053",
       "version_major": 2,
       "version_minor": 0
      },
      "text/plain": [
       "interactive(children=(IntSlider(value=0, description='Graph Index', max=188), FloatSlider(value=0.5, descripti…"
      ]
     },
     "metadata": {},
     "output_type": "display_data"
    },
    {
     "data": {
      "text/plain": [
       "<function __main__.<lambda>(idx, threshold)>"
      ]
     },
     "metadata": {},
     "output_type": "display_data"
    }
   ],
   "source": [
    "display_func = lambda idx, threshold: plot_scene_graph(idx=idx, dataset=dataset, model=model, threshold=threshold)\n",
    "idx_slider = widgets.IntSlider(value=0, min=0, max=len(dataset)-1, step=1, description=\"Graph Index\")\n",
    "threshold_slider = widgets.FloatSlider(value=0.5, min=0, max=1, step=0.01, description=\"Threshold\")\n",
    "display(widgets.interact(display_func, idx=idx_slider, threshold=threshold_slider))"
   ]
  }
 ],
 "metadata": {
  "kernelspec": {
   "display_name": "gpa",
   "language": "python",
   "name": "python3"
  },
  "language_info": {
   "codemirror_mode": {
    "name": "ipython",
    "version": 3
   },
   "file_extension": ".py",
   "mimetype": "text/x-python",
   "name": "python",
   "nbconvert_exporter": "python",
   "pygments_lexer": "ipython3",
   "version": "3.10.16"
  }
 },
 "nbformat": 4,
 "nbformat_minor": 5
}
