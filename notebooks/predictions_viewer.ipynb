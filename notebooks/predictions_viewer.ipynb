{
 "cells": [
  {
   "cell_type": "code",
   "execution_count": 1,
   "id": "f6a51f80",
   "metadata": {},
   "outputs": [],
   "source": [
    "import io\n",
    "from pathlib import Path\n",
    "\n",
    "from copy import deepcopy\n",
    "import pandas as pd\n",
    "import yaml\n",
    "import torch\n",
    "from torch_geometric.utils import scatter\n",
    "from ipywidgets import widgets\n",
    "from matplotlib import pyplot as plt\n",
    "from seaborn import color_palette\n",
    "import imageio\n",
    "from IPython.display import display\n",
    "from tqdm import tqdm\n",
    "\n",
    "from gpa.common.helpers import plot_bboxes, parse_into_subgraphs, edge_index_union, edge_index_diff\n",
    "from gpa.datasets.attribution import DetectionGraph\n",
    "from gpa.datasets.attribution import PriceAttributionDataset\n",
    "from gpa.configs import TrainingConfig\n",
    "from gpa.models.attributors import LightningPriceAttributor\n",
    "from gpa.common.helpers import connect_products_with_nearest_price_tag"
   ]
  },
  {
   "cell_type": "code",
   "execution_count": 2,
   "id": "614be662",
   "metadata": {},
   "outputs": [
    {
     "data": {
      "application/vnd.jupyter.widget-view+json": {
       "model_id": "44c6634a445d45c7b33e7fb547a7dcec",
       "version_major": 2,
       "version_minor": 0
      },
      "text/plain": [
       "Dropdown(description='Checkpoint:', layout=Layout(width='60%'), options=(('0.0.1/version_0/last.ckpt', PosixPa…"
      ]
     },
     "metadata": {},
     "output_type": "display_data"
    }
   ],
   "source": [
    "chkp_root = Path(\"../chkp\")\n",
    "candidate_chkps = list(chkp_root.rglob(\"*.ckpt\"))\n",
    "\n",
    "if not candidate_chkps:\n",
    "    raise FileNotFoundError(\"No checkpoint files found.\")\n",
    "\n",
    "dropdown: widgets.Dropdown = widgets.Dropdown(\n",
    "    options=[(str(p.relative_to(chkp_root)), p) for p in candidate_chkps],\n",
    "    description='Checkpoint:',\n",
    "    style={'description_width': 'initial'},\n",
    "    layout=widgets.Layout(width='60%')\n",
    ")\n",
    "\n",
    "def get_chkp_and_config_paths() -> tuple[Path, Path]:\n",
    "    display(dropdown)\n",
    "    chkp_path: Path = dropdown.value\n",
    "    config_path = Path(str(chkp_path).replace(\"chkp\", \"logs\")).with_name(\"config.yaml\")\n",
    "    return chkp_path, config_path\n",
    "\n",
    "chkp_path, config_path = get_chkp_and_config_paths()\n",
    "with open(config_path, \"r\") as f:\n",
    "    config = TrainingConfig(**yaml.safe_load(f))\n",
    "dataset_dir = Path(\"..\") / config.dataset_dir / \"val\"\n",
    "dataset = PriceAttributionDataset(root=dataset_dir)\n",
    "products_df = pd.read_csv(dataset_dir / \"raw\"/ \"product_boxes.csv\", index_col=\"attributionset_id\")\n",
    "model = LightningPriceAttributor.load_from_checkpoint(chkp_path).eval()"
   ]
  },
  {
   "cell_type": "code",
   "execution_count": 3,
   "id": "e9dd6dc0",
   "metadata": {},
   "outputs": [],
   "source": [
    "@torch.inference_mode()\n",
    "def iterative_inference_v2(graph: DetectionGraph, model: LightningPriceAttributor, max_iter: int = 50, threshold: float = 0.5):\n",
    "    graphs = [graph.clone()]\n",
    "\n",
    "    for _ in range(max_iter):\n",
    "        src, dst = edge_index_diff(torch.cartesian_prod(graph.product_indices, graph.price_indices).T, graph.edge_index)\n",
    "        edge_probs = model.forward(\n",
    "            x=graph.x,\n",
    "            edge_index=graph.edge_index,\n",
    "            src=src,\n",
    "            dst=dst,\n",
    "            cluster_assignment=graph.upc_clusters,\n",
    "        ).sigmoid()\n",
    "\n",
    "        max_avg_prob = -torch.inf\n",
    "        max_cluster_price_idx_pair = None\n",
    "        for price_idx in dst.unique():\n",
    "            assoc_src = src[dst == price_idx]\n",
    "            assoc_upc_clusters = graph.upc_clusters[assoc_src]\n",
    "            assoc_edge_probs = edge_probs[dst == price_idx]\n",
    "            scattered = scatter(assoc_edge_probs, assoc_upc_clusters, dim=0, reduce=\"mean\")\n",
    "            max_cluster = torch.argmax(scattered)\n",
    "            max_cluster_prob = scattered[max_cluster]\n",
    "            if max_cluster_prob > max_avg_prob and max_cluster_prob > threshold:\n",
    "                max_avg_prob = max_cluster_prob\n",
    "                max_cluster_price_idx_pair = (max_cluster, price_idx)\n",
    "\n",
    "        if max_cluster_price_idx_pair is None:\n",
    "            break\n",
    "        cluster_idx, price_idx = max_cluster_price_idx_pair\n",
    "        src_in_cluster = torch.where(graph.upc_clusters == cluster_idx)[0]\n",
    "        new_edges = torch.stack([src_in_cluster, price_idx.repeat(len(src_in_cluster))])\n",
    "        graph.edge_index = edge_index_union(graph.edge_index, new_edges)\n",
    "        graphs.append(graph.clone())\n",
    "    return graphs"
   ]
  },
  {
   "cell_type": "code",
   "execution_count": 4,
   "id": "db20f697",
   "metadata": {},
   "outputs": [],
   "source": [
    "@torch.inference_mode()\n",
    "def iterative_inference(\n",
    "    graph: DetectionGraph,\n",
    "    model: LightningPriceAttributor,\n",
    "    threshold: float = 0.5,\n",
    "    max_iter: int = 50,\n",
    ") -> list[DetectionGraph]:\n",
    "    model.eval()\n",
    "    graphs = [graph.clone()]\n",
    "\n",
    "    for _ in range(max_iter):\n",
    "        src, dst = edge_index_diff(torch.cartesian_prod(graph.product_indices, graph.price_indices).T, graph.edge_index)\n",
    "        edge_probs = model.forward(\n",
    "            x=graph.x,\n",
    "            edge_index=graph.edge_index,\n",
    "            src=src,\n",
    "            dst=dst,\n",
    "            cluster_assignment=graph.upc_clusters,\n",
    "        ).sigmoid()\n",
    "        # Choose the UPC group -> price connection with the highest probability.\n",
    "        \n",
    "        src_upc_clusters = graph.upc_clusters[src]\n",
    "        scatter(edge_probs, src_upc_clusters, dim=0, reduce=\"sum\")\n",
    "\n",
    "        keep = edge_probs > threshold\n",
    "        if keep.sum() == 0:\n",
    "            break\n",
    "        new_edges = torch.stack([src[keep], dst[keep]], dim=0)\n",
    "        graph.edge_index = edge_index_union(graph.edge_index, new_edges)\n",
    "        graphs.append(graph.clone())\n",
    "    return graphs"
   ]
  },
  {
   "cell_type": "code",
   "execution_count": 6,
   "id": "76de1908",
   "metadata": {},
   "outputs": [
    {
     "data": {
      "application/vnd.jupyter.widget-view+json": {
       "model_id": "2542eb73e68e428bbb19585f38392bdd",
       "version_major": 2,
       "version_minor": 0
      },
      "text/plain": [
       "IntSlider(value=0, continuous_update=False, description='Index', max=188)"
      ]
     },
     "metadata": {},
     "output_type": "display_data"
    },
    {
     "data": {
      "application/vnd.jupyter.widget-view+json": {
       "model_id": "615574dedcbf43d9b9d85620fad24975",
       "version_major": 2,
       "version_minor": 0
      },
      "text/plain": [
       "Button(description='Generate Video', style=ButtonStyle())"
      ]
     },
     "metadata": {},
     "output_type": "display_data"
    },
    {
     "data": {
      "application/vnd.jupyter.widget-view+json": {
       "model_id": "873ae22cf4fe47b8946658d445df149c",
       "version_major": 2,
       "version_minor": 0
      },
      "text/plain": [
       "Output()"
      ]
     },
     "metadata": {},
     "output_type": "display_data"
    }
   ],
   "source": [
    "index_selector: widgets.IntSlider = widgets.IntSlider(\n",
    "    value=0, min=0, max=len(dataset)-1, step=1,\n",
    "    description=\"Index\",\n",
    "    continuous_update=False\n",
    ")\n",
    "generate_button: widgets.Button = widgets.Button(description=\"Generate Video\")\n",
    "output: widgets.Output = widgets.Output()\n",
    "\n",
    "def generate_video(_):\n",
    "    idx = index_selector.value\n",
    "    initial_graph = dataset[idx]\n",
    "    graphs = iterative_inference_v2(initial_graph, model, threshold=0.5)\n",
    "    image_path = dataset_dir.parent / products_df.loc[initial_graph.graph_id][\"local_path\"].values[0]\n",
    "    image = plt.imread(image_path)\n",
    "    \n",
    "    video_path = Path(f\"inference-videos/graph_{idx}.mp4\")\n",
    "    video_path.parent.mkdir(parents=True, exist_ok=True)\n",
    "    \n",
    "    with output:\n",
    "        output.clear_output(wait=True)\n",
    "        with imageio.get_writer(video_path, fps=2) as writer:\n",
    "            for t, graph in tqdm(enumerate(graphs), desc=\"Generating video...\", total=len(graphs)):\n",
    "                buffer = io.BytesIO()\n",
    "                fig, axs = plt.subplots(1, 2, dpi=100)\n",
    "                graph.plot(ax=axs[0], prod_price_only=True)\n",
    "                axs[0].set_title(f\"t={t}\")\n",
    "                axs[1].imshow(image)\n",
    "                axs[1].axis(\"off\")\n",
    "                \n",
    "                fig.savefig(buffer, format=\"png\")\n",
    "                plt.close(fig)\n",
    "                buffer.seek(0)\n",
    "                writer.append_data(imageio.v2.imread(buffer))\n",
    "                buffer.close()\n",
    "    \n",
    "generate_button.on_click(generate_video)\n",
    "display(index_selector, generate_button, output)"
   ]
  },
  {
   "cell_type": "markdown",
   "id": "2d87c324",
   "metadata": {},
   "source": [
    "### Old Code"
   ]
  },
  {
   "cell_type": "code",
   "execution_count": 5,
   "id": "a5a084cf",
   "metadata": {},
   "outputs": [],
   "source": [
    "@torch.inference_mode()\n",
    "def plot_scene_graph(idx: int, dataset: PriceAttributionDataset, model: LightningPriceAttributor, threshold: float = 0.5):\n",
    "    plt.close()\n",
    "    fig, axs = plt.subplots(1, 4, figsize=(15, 4), width_ratios=[1, 1, 1, 2])\n",
    "    graph: DetectionGraph = dataset[idx]\n",
    "    \n",
    "    model.eval()\n",
    "    model.to(device=\"cpu\")\n",
    "    graph.to(device=\"cpu\")\n",
    "    \n",
    "    actual_graph = deepcopy(graph)\n",
    "    actual_graph.edge_index = graph.gt_prod_price_edge_index\n",
    "    actual_graph.edge_attr = torch.ones(len(graph.gt_prod_price_edge_index[0]), 1)\n",
    "    \n",
    "    heuristic_graph = deepcopy(graph)\n",
    "    src, dst = connect_products_with_nearest_price_tag(\n",
    "        centroids=graph.x[:, :2],\n",
    "        product_indices=graph.product_indices,\n",
    "        price_indices=graph.price_indices,\n",
    "    )\n",
    "    heuristic_graph.edge_index = torch.stack([src, dst], dim=0)\n",
    "    heuristic_graph.edge_attr = torch.ones(len(src), 1)\n",
    "    heuristic_graph.plot(ax=axs[0], prod_price_only=True, mark_wrong_edges=True)\n",
    "    axs[0].set_title(\"Heuristic\", fontsize=10)\n",
    "\n",
    "    edge_probs = model.forward(\n",
    "        x=graph.x,\n",
    "        edge_index=graph.edge_index,\n",
    "        edge_attr=graph.edge_attr,\n",
    "        src=src,\n",
    "        dst=dst,\n",
    "    ).sigmoid()\n",
    "    keep = edge_probs > threshold\n",
    "    graph.edge_index = torch.stack([src[keep], dst[keep]], dim=0)\n",
    "    graph.edge_attr = edge_probs[keep].view(-1, 1)\n",
    "    graph.plot(ax=axs[1], prod_price_only=True, mark_wrong_edges=True)\n",
    "    axs[1].set_title(\"Pruned\", fontsize=10)\n",
    "\n",
    "    actual_graph.plot(ax=axs[2], prod_price_only=True)\n",
    "    axs[2].set_title(\"Actual\", fontsize=10)\n",
    "\n",
    "    image_path = dataset_dir.parent / products_df.loc[graph.graph_id][\"local_path\"].values[0]\n",
    "    image = plt.imread(image_path)\n",
    "\n",
    "    height, width = image.shape[:2]\n",
    "\n",
    "    subgraph_indices = parse_into_subgraphs(graph.gt_prod_price_edge_index, graph.num_nodes)\n",
    "    subgraph_ids = torch.unique(subgraph_indices)\n",
    "    colors = color_palette(n_colors=len(subgraph_ids))\n",
    "    for i, color in zip(subgraph_ids, colors):\n",
    "        node_indices = torch.argwhere(subgraph_indices == i).flatten()\n",
    "        if len(node_indices) == 1:\n",
    "            color = (1., 1., 1.)\n",
    "        product_indices = node_indices[torch.isin(node_indices, graph.product_indices)]\n",
    "        price_indices = node_indices[torch.isin(node_indices, graph.price_indices)]\n",
    "        plot_bboxes(graph.x[product_indices, :4], ax=axs[3], color=color, linestyle=\"solid\", width=width, height=height)\n",
    "        plot_bboxes(graph.x[price_indices, :4], ax=axs[3], color=color, linestyle=\"dashed\", width=width, height=height)\n",
    "    \n",
    "    axs[3].imshow(image)\n",
    "    axs[3].axis(\"off\")\n",
    "    \n",
    "    fig.tight_layout()\n",
    "    fig.set_dpi(100)\n",
    "    plt.show()"
   ]
  },
  {
   "cell_type": "code",
   "execution_count": 6,
   "id": "760c87c8",
   "metadata": {},
   "outputs": [
    {
     "data": {
      "application/vnd.jupyter.widget-view+json": {
       "model_id": "f11222b54212422695d741e4601b9053",
       "version_major": 2,
       "version_minor": 0
      },
      "text/plain": [
       "interactive(children=(IntSlider(value=0, description='Graph Index', max=188), FloatSlider(value=0.5, descripti…"
      ]
     },
     "metadata": {},
     "output_type": "display_data"
    },
    {
     "data": {
      "text/plain": [
       "<function __main__.<lambda>(idx, threshold)>"
      ]
     },
     "metadata": {},
     "output_type": "display_data"
    }
   ],
   "source": [
    "display_func = lambda idx, threshold: plot_scene_graph(idx=idx, dataset=dataset, model=model, threshold=threshold)\n",
    "idx_slider = widgets.IntSlider(value=0, min=0, max=len(dataset)-1, step=1, description=\"Graph Index\")\n",
    "threshold_slider = widgets.FloatSlider(value=0.5, min=0, max=1, step=0.01, description=\"Threshold\")\n",
    "display(widgets.interact(display_func, idx=idx_slider, threshold=threshold_slider))"
   ]
  }
 ],
 "metadata": {
  "kernelspec": {
   "display_name": "gpa",
   "language": "python",
   "name": "python3"
  },
  "language_info": {
   "codemirror_mode": {
    "name": "ipython",
    "version": 3
   },
   "file_extension": ".py",
   "mimetype": "text/x-python",
   "name": "python",
   "nbconvert_exporter": "python",
   "pygments_lexer": "ipython3",
   "version": "3.10.16"
  }
 },
 "nbformat": 4,
 "nbformat_minor": 5
}
