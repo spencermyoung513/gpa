{
 "cells": [
  {
   "cell_type": "markdown",
   "id": "a142a3ac",
   "metadata": {},
   "source": [
    "This notebook is an interactive application that allows you to view/explore a price attribution dataset. Once you specify the directory where the dataset is located, you can view each graph in the dataset (annotated with the ground truth product-price connections).\n",
    "\n",
    "Two views are displayed:\n",
    "\n",
    "1. A graph view, where each node is a product or price tag detection, and the depicted edges connect product and price nodes that have been labeled as part of the same pricing group.\n",
    "2. A visual view, where we show the display image the detections were computed from, with colors indicating which products/prices are in the same labeled pricing group. Note that in this view, any individual product / price bboxes that are not in a pricing group are colored in white. Product bboxes are plotted with solid lines, while price bboxes are plotted with dashed lines."
   ]
  },
  {
   "cell_type": "code",
   "execution_count": null,
   "id": "67c52349",
   "metadata": {},
   "outputs": [],
   "source": [
    "import os\n",
    "import sys\n",
    "from pathlib import Path\n",
    "\n",
    "sys.path.append(str(Path(os.getcwd()).parent))\n",
    "\n",
    "import pandas as pd\n",
    "import torch\n",
    "from ipywidgets import widgets\n",
    "from matplotlib import pyplot as plt\n",
    "from seaborn import color_palette\n",
    "\n",
    "from gpa.common.helpers import plot_bboxes, parse_into_subgraphs\n",
    "from gpa.datasets.detection_graphs import DetectionGraph\n",
    "from gpa.datasets.detection_graphs import PriceAttributionDataset"
   ]
  },
  {
   "cell_type": "code",
   "execution_count": null,
   "id": "7e39dad2",
   "metadata": {},
   "outputs": [],
   "source": [
    "while True:\n",
    "    dataset_dir = Path(input(\"Input the dataset directory: \"))\n",
    "    if dataset_dir.exists() and dataset_dir.is_dir():\n",
    "        break\n",
    "    print(\"Invalid dataset directory. Please try again.\")"
   ]
  },
  {
   "cell_type": "code",
   "execution_count": null,
   "id": "b81f0a5a",
   "metadata": {},
   "outputs": [],
   "source": [
    "dataset = PriceAttributionDataset(root=dataset_dir)\n",
    "products_df = pd.read_csv(dataset_dir / \"raw\"/ \"product_boxes.csv\", index_col=\"attributionset_id\")"
   ]
  },
  {
   "cell_type": "code",
   "execution_count": null,
   "id": "a553dfaa",
   "metadata": {},
   "outputs": [],
   "source": [
    "def plot_scene_graph(idx: int, dataset: PriceAttributionDataset):\n",
    "    plt.close()\n",
    "    fig, axs = plt.subplots(1, 2, figsize=(10, 4))\n",
    "    graph: DetectionGraph = dataset[idx]\n",
    "    \n",
    "    graph.edge_index = graph.gt_prod_price_edge_index\n",
    "    graph.edge_attr = torch.ones(graph.edge_index.shape[1])\n",
    "    graph.plot(ax=axs[0], prod_price_only=True, mark_wrong_edges=True)\n",
    "    axs[0].set_title(graph.graph_id, fontsize=10)\n",
    "\n",
    "    image_path = dataset_dir.parent / products_df.loc[graph.graph_id][\"local_path\"].values[0]\n",
    "    image = plt.imread(image_path)\n",
    "\n",
    "    height, width = image.shape[:2]\n",
    "\n",
    "    subgraph_indices = parse_into_subgraphs(graph.edge_index, graph.num_nodes)\n",
    "    subgraph_ids = torch.unique(subgraph_indices)\n",
    "    colors = color_palette(n_colors=len(subgraph_ids))\n",
    "    for i, color in zip(subgraph_ids, colors):\n",
    "        node_indices = torch.argwhere(subgraph_indices == i).flatten()\n",
    "        if len(node_indices) == 1:\n",
    "            color = (1., 1., 1.)\n",
    "        product_indices = node_indices[torch.isin(node_indices, graph.product_indices)]\n",
    "        price_indices = node_indices[torch.isin(node_indices, graph.price_indices)]\n",
    "        plot_bboxes(graph.x[product_indices, :4], ax=axs[1], color=color, linestyle=\"solid\", width=width, height=height)\n",
    "        plot_bboxes(graph.x[price_indices, :4], ax=axs[1], color=color, linestyle=\"dashed\", width=width, height=height)\n",
    "    \n",
    "    axs[1].imshow(image)\n",
    "    axs[1].axis(\"off\")\n",
    "    \n",
    "    fig.tight_layout()\n",
    "    fig.set_dpi(100)\n",
    "    plt.show()"
   ]
  },
  {
   "cell_type": "code",
   "execution_count": null,
   "id": "5b5a3892",
   "metadata": {},
   "outputs": [],
   "source": [
    "display_func = lambda idx: plot_scene_graph(idx=idx, dataset=dataset)\n",
    "idx_slider = widgets.IntSlider(value=0, min=0, max=len(dataset)-1, step=1, description=\"Graph Index\")\n",
    "display(widgets.interact(display_func, idx=idx_slider))"
   ]
  }
 ],
 "metadata": {
  "kernelspec": {
   "display_name": "gpa",
   "language": "python",
   "name": "python3"
  },
  "language_info": {
   "codemirror_mode": {
    "name": "ipython",
    "version": 3
   },
   "file_extension": ".py",
   "mimetype": "text/x-python",
   "name": "python",
   "nbconvert_exporter": "python",
   "pygments_lexer": "ipython3",
   "version": "3.10.16"
  }
 },
 "nbformat": 4,
 "nbformat_minor": 5
}
