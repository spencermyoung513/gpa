{
 "cells": [
  {
   "cell_type": "code",
   "id": "initial_id",
   "metadata": {
    "collapsed": true,
    "ExecuteTime": {
     "end_time": "2025-07-02T17:19:33.669285Z",
     "start_time": "2025-07-02T17:19:33.666647Z"
    }
   },
   "source": [
    "import pandas as pd\n",
    "import os\n",
    "import shutil"
   ],
   "outputs": [],
   "execution_count": 2
  },
  {
   "metadata": {
    "ExecuteTime": {
     "end_time": "2025-07-01T22:33:39.402858Z",
     "start_time": "2025-07-01T22:33:39.393334Z"
    }
   },
   "cell_type": "code",
   "source": [
    "def swire_scenes_for(split: str) -> tuple[pd.DataFrame, pd.DataFrame]:\n",
    "    df = pd.read_csv(\"../data/swire_master.csv\", dtype={\"upc\": str})\n",
    "    boxes = pd.read_csv(f\"../data/price-graphs-ii/{split}/raw/product_boxes.csv\", dtype={'ml_label_name': str}).rename(columns={\"ml_label_name\": \"upc\"})\n",
    "    joined = boxes.merge(df, on='upc', how='left')\n",
    "    scenes_with_nonswire_product = joined.groupby(\"attributionset_id\").filter(lambda group: group[\"brand_code\"].isna().any()).attributionset_id.unique()\n",
    "    swire_scenes = joined[~joined.attributionset_id.isin(scenes_with_nonswire_product)]\n",
    "    prices = pd.read_csv(f\"../data/price-graphs-ii/{split}/raw/price_boxes.csv\")\n",
    "    prices = prices[~prices.attributionset_id.isin(scenes_with_nonswire_product)]\n",
    "    print(f\"There are {swire_scenes.attributionset_id.unique().shape[0]} unique scenes with Swire product only in '{split}'\")\n",
    "    return swire_scenes.drop_duplicates(), prices"
   ],
   "id": "9088977af06c317",
   "outputs": [],
   "execution_count": 42
  },
  {
   "metadata": {
    "ExecuteTime": {
     "end_time": "2025-07-01T22:33:46.242750Z",
     "start_time": "2025-07-01T22:33:45.713229Z"
    }
   },
   "cell_type": "code",
   "source": [
    "train, train_prices = swire_scenes_for(\"train\")\n",
    "val, val_prices = swire_scenes_for(\"val\")\n",
    "test, test_prices =swire_scenes_for(\"test\")"
   ],
   "id": "bdfd780cbc613d43",
   "outputs": [
    {
     "name": "stdout",
     "output_type": "stream",
     "text": [
      "There are 715 unique scenes with Swire product only in 'train'\n",
      "There are 85 unique scenes with Swire product only in 'val'\n",
      "There are 76 unique scenes with Swire product only in 'test'\n"
     ]
    }
   ],
   "execution_count": 43
  },
  {
   "metadata": {
    "ExecuteTime": {
     "end_time": "2025-07-02T12:40:52.975316Z",
     "start_time": "2025-07-02T12:40:52.970702Z"
    }
   },
   "cell_type": "code",
   "source": [
    "def save_swire_split(product_df: pd.DataFrame, price_df: pd.DataFrame, split: str):\n",
    "    source = \"../data/price-graphs-ii\"\n",
    "    target = \"../data/swire\"\n",
    "    for i, row in product_df.iterrows():\n",
    "        if not os.path.exists(os.path.join(target, row.local_path)):\n",
    "            shutil.copy(os.path.join(source, row.local_path), os.path.join(target, row.local_path))\n",
    "    product_df.to_csv(os.path.join(target, split, \"raw\", \"product_boxes.csv\"), index=False)\n",
    "    price_df.to_csv(os.path.join(target, split, \"raw\", \"price_boxes.csv\"), index=False)\n",
    "    shutil.copy(os.path.join(source, split, \"raw\", \"graph_components.pt\"), os.path.join(target, split, \"raw\", \"graph_components.pt\"))"
   ],
   "id": "84ed91463e0c11d7",
   "outputs": [],
   "execution_count": 47
  },
  {
   "metadata": {
    "ExecuteTime": {
     "end_time": "2025-07-02T12:41:29.333474Z",
     "start_time": "2025-07-02T12:41:07.511648Z"
    }
   },
   "cell_type": "code",
   "source": [
    "save_swire_split(train, train_prices, \"train\")\n",
    "save_swire_split(val, val_prices, \"val\")\n",
    "save_swire_split(test, test_prices, \"test\")\n"
   ],
   "id": "eaa1299d79f021a6",
   "outputs": [],
   "execution_count": 49
  },
  {
   "metadata": {
    "ExecuteTime": {
     "end_time": "2025-07-01T22:03:45.029042Z",
     "start_time": "2025-07-01T22:03:45.026606Z"
    }
   },
   "cell_type": "code",
   "source": "train.shape",
   "id": "309e9183f13d64f5",
   "outputs": [
    {
     "data": {
      "text/plain": [
       "(38589, 15)"
      ]
     },
     "execution_count": 40,
     "metadata": {},
     "output_type": "execute_result"
    }
   ],
   "execution_count": 40
  },
  {
   "metadata": {
    "ExecuteTime": {
     "end_time": "2025-07-02T17:19:35.964154Z",
     "start_time": "2025-07-02T17:19:35.890058Z"
    }
   },
   "cell_type": "code",
   "source": "pd.read_csv(\"../data/swire/train/raw/product_boxes.csv\").attributionset_id.unique().shape",
   "id": "e6b01b91c9b58c0a",
   "outputs": [
    {
     "data": {
      "text/plain": [
       "(715,)"
      ]
     },
     "execution_count": 3,
     "metadata": {},
     "output_type": "execute_result"
    }
   ],
   "execution_count": 3
  },
  {
   "metadata": {},
   "cell_type": "code",
   "outputs": [],
   "execution_count": null,
   "source": "",
   "id": "9d6403579c88db96"
  }
 ],
 "metadata": {
  "kernelspec": {
   "display_name": "Python 3",
   "language": "python",
   "name": "python3"
  },
  "language_info": {
   "codemirror_mode": {
    "name": "ipython",
    "version": 2
   },
   "file_extension": ".py",
   "mimetype": "text/x-python",
   "name": "python",
   "nbconvert_exporter": "python",
   "pygments_lexer": "ipython2",
   "version": "2.7.6"
  }
 },
 "nbformat": 4,
 "nbformat_minor": 5
}
