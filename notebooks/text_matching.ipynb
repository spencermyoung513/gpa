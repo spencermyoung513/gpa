{
 "cells": [
  {
   "cell_type": "code",
   "execution_count": 9,
   "id": "initial_id",
   "metadata": {
    "ExecuteTime": {
     "end_time": "2025-07-03T20:11:45.598523Z",
     "start_time": "2025-07-03T20:11:45.576692Z"
    },
    "collapsed": true
   },
   "outputs": [],
   "source": [
    "import json\n",
    "import torch\n",
    "import numpy as np\n",
    "import pandas as pd\n",
    "from itertools import chain\n",
    "from pathlib import Path\n",
    "from gpa.datasets.attribution import PriceAttributionDataset\n",
    "from products_client import get_product_client\n",
    "from tqdm import tqdm\n",
    "from gpa.datasets.attribution import DetectionGraph\n",
    "from google import genai\n",
    "from google.genai import types\n",
    "\n",
    "\n",
    "sabre = get_product_client(\n",
    "    url=\"https://products.qa.deliciousai.com/graphql/\",\n",
    "    client_id=\"OlDSXQZzZmr8ifr4ng4xXAc044TGD7TcgksIqXaT\",\n",
    "    client_secret=\"t6Ci92eN3eUzbAbsjmPw5VpYWbPTEfqT8Kyauh3yjhLkCNuIKFNmCMwkV4MhFOT1ZkFVDBUmtIWxzUQwt6Mvl0OzQdlVRkebINgXMabdHNmoJ8qsw415YMrq5oVQmG53\",\n",
    ")\n",
    "gemini = genai.Client(vertexai=True, project=\"dai-ultra\", location=\"us-central1\")"
   ]
  },
  {
   "cell_type": "code",
   "execution_count": 8,
   "id": "ebc1553f9bc9a279",
   "metadata": {
    "ExecuteTime": {
     "end_time": "2025-07-03T20:11:43.979304Z",
     "start_time": "2025-07-03T20:11:43.977342Z"
    }
   },
   "outputs": [],
   "source": [
    "generate_content_config = types.GenerateContentConfig(\n",
    "    temperature=1,\n",
    "    top_p=0.95,\n",
    "    max_output_tokens=8192,\n",
    "    response_modalities=[\"TEXT\"],\n",
    "    response_mime_type=\"application/json\",\n",
    ")"
   ]
  },
  {
   "cell_type": "code",
   "execution_count": null,
   "id": "a1d311277caf9f4f",
   "metadata": {},
   "outputs": [],
   "source": [
    "cache = {}"
   ]
  },
  {
   "cell_type": "code",
   "execution_count": null,
   "id": "f79a7aec202955b4",
   "metadata": {},
   "outputs": [],
   "source": [
    "for upc in tqdm(\n",
    "    products_df.ml_label_name.unique(), total=len(products_df.ml_label_name.unique())\n",
    "):\n",
    "    if upc not in cache:\n",
    "        try:\n",
    "            product_response = sabre.query.product(upc=upc)\n",
    "            cache[upc] = product_response.name\n",
    "        except:\n",
    "            cache[upc] = None\n",
    "\n",
    "with open(\"../data/text-matching/products.json\", \"w\") as f:\n",
    "    json.dump(cache, f, indent=2)"
   ]
  },
  {
   "cell_type": "code",
   "execution_count": 4,
   "id": "3b9de6fc8979f801",
   "metadata": {
    "ExecuteTime": {
     "end_time": "2025-07-03T20:10:32.788587Z",
     "start_time": "2025-07-03T20:10:32.785009Z"
    }
   },
   "outputs": [],
   "source": [
    "with open(\"../data/text-matching/products.json\", \"r\") as f:\n",
    "    cache = json.load(f)"
   ]
  },
  {
   "cell_type": "code",
   "execution_count": 42,
   "id": "69167a9c2bcc1f9a",
   "metadata": {
    "ExecuteTime": {
     "end_time": "2025-07-03T20:25:04.608107Z",
     "start_time": "2025-07-03T20:25:04.465558Z"
    }
   },
   "outputs": [],
   "source": [
    "dataset_dir = Path(\"../data/price-graphs-ii/test\")\n",
    "dataset = PriceAttributionDataset(root=dataset_dir)\n",
    "products_df = pd.read_csv(\n",
    "    dataset_dir / \"raw\" / \"product_boxes.csv\",\n",
    "    index_col=\"attributionset_id\",\n",
    "    dtype={\"ml_label_name\": str},\n",
    ")\n",
    "price_df = pd.read_csv(\n",
    "    dataset_dir / \"raw\" / \"price_boxes.csv\",\n",
    "    index_col=\"price_bbox_id\",\n",
    ")\n",
    "with open(\"../data/text-matching/price_tag_product_metadata.json\", \"r\") as f:\n",
    "    price_product = json.load(f)\n",
    "\n",
    "for bbox_id, product_metadata in price_product.items():\n",
    "    price_df.loc[bbox_id, \"product_metadata\"] = (\n",
    "        product_metadata[\"price_product_metadata\"] or \"NULL\"\n",
    "    )\n",
    "\n",
    "price_df = price_df.set_index(\"attributionset_id\")"
   ]
  },
  {
   "cell_type": "code",
   "execution_count": 56,
   "id": "a9ab7ebf0d907999",
   "metadata": {
    "ExecuteTime": {
     "end_time": "2025-07-03T20:35:36.321704Z",
     "start_time": "2025-07-03T20:35:36.313626Z"
    }
   },
   "outputs": [],
   "source": [
    "def get_products_dict(\n",
    "    scene_graph: DetectionGraph,\n",
    "    scene: pd.DataFrame,\n",
    "    product_cache: dict[str, dict[str, str]] | None = None,\n",
    "):\n",
    "    products = []\n",
    "    grouped = dict(\n",
    "        pd.DataFrame(zip(scene.ml_label_name, scene_graph.product_indices.tolist()))\n",
    "        .groupby(0)\n",
    "        .agg(list)\n",
    "        .itertuples(index=True, name=None)\n",
    "    )\n",
    "    for sku, indices in grouped.items():\n",
    "        product = {\"sku\": sku}\n",
    "        if product_cache is not None and product_cache[sku] is not None:\n",
    "            product[\"name\"] = product_cache[sku]\n",
    "        products.append(product)\n",
    "    return products, grouped\n",
    "\n",
    "\n",
    "def get_prices_dict(scene_graph: DetectionGraph, scene_prices: pd.DataFrame):\n",
    "    prices = []\n",
    "    grouped = dict(\n",
    "        pd.DataFrame(\n",
    "            zip(\n",
    "                scene_prices.price_type,\n",
    "                scene_prices.price_contents,\n",
    "                scene_prices.product_metadata,\n",
    "                scene_graph.price_indices.tolist(),\n",
    "            )\n",
    "        )\n",
    "        .groupby([0, 1, 2])\n",
    "        .agg(list)\n",
    "        .itertuples(index=True, name=None)\n",
    "    )\n",
    "    grouped_to_return = dict(\n",
    "        pd.DataFrame(\n",
    "            zip(\n",
    "                scene_prices.price_type,\n",
    "                scene_prices.price_contents,\n",
    "                scene_graph.price_indices.tolist(),\n",
    "            )\n",
    "        )\n",
    "        .groupby([0, 1])\n",
    "        .agg(list)\n",
    "        .itertuples(index=True, name=None)\n",
    "    )\n",
    "    for (price_type, price_contents, product_metadata), indices in grouped.items():\n",
    "        pr = {\n",
    "            \"price_type\": price_type,\n",
    "            \"contents\": price_contents,\n",
    "        }\n",
    "        if product_metadata != \"NULL\":\n",
    "            pr[\"product_metadata\"] = product_metadata\n",
    "        prices.append(pr)\n",
    "    return prices, grouped_to_return\n",
    "\n",
    "\n",
    "def call_llm(prompt: str, model: str) -> dict:\n",
    "    raw = gemini.models.generate_content(\n",
    "        model=model,\n",
    "        contents=[types.Content(role=\"user\", parts=[types.Part(text=prompt)])],\n",
    "        config=generate_content_config,\n",
    "    )\n",
    "    cleaned = raw.text.strip().removeprefix(\"```json\").removesuffix(\"```\").strip()\n",
    "    return json.loads(cleaned)\n",
    "\n",
    "\n",
    "def get_llm_prediction(graph: DetectionGraph, model: str) -> torch.Tensor:\n",
    "    products, product_groups = get_products_dict(\n",
    "        graph, scene=products_df.loc[[graph.graph_id]], product_cache=cache\n",
    "    )\n",
    "    prices, prices_grouped = get_prices_dict(\n",
    "        graph, scene_prices=price_df.loc[[graph.graph_id]]\n",
    "    )\n",
    "    prompt = (\n",
    "        open(\"../data/text-matching/prompt.txt\", \"r\")\n",
    "        .read()\n",
    "        .format(products=products, price_tags=prices)\n",
    "    )\n",
    "    response = call_llm(prompt, model)\n",
    "    data = []\n",
    "    rows = []\n",
    "    cols = []\n",
    "    for upc, prices in response.items():\n",
    "        product_indices = product_groups[upc]\n",
    "        _chain = []\n",
    "        for price in prices:\n",
    "            _chain.append(prices_grouped[(price[\"price_type\"], price[\"contents\"])])\n",
    "        prices_indices = list(chain.from_iterable(_chain))\n",
    "        data.append((product_indices, prices_indices))\n",
    "\n",
    "    for sources, targets in data:\n",
    "        for s in sources:\n",
    "            for t in targets:\n",
    "                rows.append(s)\n",
    "                cols.append(t)\n",
    "\n",
    "    return torch.tensor([rows, cols], dtype=torch.long)\n",
    "\n",
    "\n",
    "def compute_precision_recall_undirected(\n",
    "    pred_edges: torch.Tensor, gt_edges: torch.Tensor\n",
    ") -> tuple[float, float, float]:\n",
    "    def normalize_edges(edges: torch.Tensor) -> set:\n",
    "        mask = (edges >= 0).all(dim=0)\n",
    "        edges = edges[:, mask]\n",
    "        return {tuple(sorted(e)) for e in edges.t().tolist()}\n",
    "\n",
    "    pred_set = normalize_edges(pred_edges)\n",
    "    gt_set = normalize_edges(gt_edges)\n",
    "    tp = len(pred_set & gt_set)\n",
    "    fp = len(pred_set - gt_set)\n",
    "    fn = len(gt_set - pred_set)\n",
    "    pr = tp / (tp + fp) if (tp + fp) > 0 else 0.0\n",
    "    re = tp / (tp + fn) if (tp + fn) > 0 else 0.0\n",
    "    f1_score = (2 * pr * re) / (pr + re) if (pr + re) > 0 else 0.0\n",
    "\n",
    "    return pr, re, f1_score"
   ]
  },
  {
   "cell_type": "code",
   "execution_count": 61,
   "id": "2908a5893ae0d010",
   "metadata": {
    "ExecuteTime": {
     "end_time": "2025-07-03T20:49:27.587682Z",
     "start_time": "2025-07-03T20:40:51.067752Z"
    }
   },
   "outputs": [
    {
     "name": "stderr",
     "output_type": "stream",
     "text": [
      "100%|██████████| 325/325 [08:36<00:00,  1.59s/it]\n"
     ]
    }
   ],
   "source": [
    "all_prec = []\n",
    "all_rec = []\n",
    "all_f1 = []\n",
    "test_dataset = dataset\n",
    "for G in tqdm(test_dataset, total=len(test_dataset)):\n",
    "    gt = G.gt_prod_price_edge_index\n",
    "    pred = get_llm_prediction(G, model=\"gemini-2.0-flash-lite-001\")\n",
    "    # pred = get_llm_prediction(G, model=\"gemini-2.5-flash\")\n",
    "    precision, recall, f1 = compute_precision_recall_undirected(\n",
    "        pred_edges=pred, gt_edges=gt\n",
    "    )\n",
    "    all_prec.append(precision)\n",
    "    all_rec.append(recall)\n",
    "    all_f1.append(f1)\n",
    "\n",
    "mean_precision, std_precision = (\n",
    "    np.array(all_prec).mean(),\n",
    "    np.array(all_prec).std(),\n",
    ")\n",
    "mean_recall, std_recall = np.array(all_rec).mean(), np.array(all_rec).std()\n",
    "mean_f1, std_f1 = np.array(all_f1).mean(), np.array(all_f1).std()"
   ]
  },
  {
   "cell_type": "code",
   "execution_count": 62,
   "id": "c7b2a93dcbc7c603",
   "metadata": {
    "ExecuteTime": {
     "end_time": "2025-07-03T20:50:32.907248Z",
     "start_time": "2025-07-03T20:50:32.902716Z"
    }
   },
   "outputs": [
    {
     "name": "stdout",
     "output_type": "stream",
     "text": [
      "{'precision': {'mean': '0.604', 'std': '0.392'}, 'recall': {'mean': '0.610', 'std': '0.394'}, 'f1': {'mean': '0.568', 'std': '0.363'}, 'model': 'gemini-2.5-flash-lite-001'}\n"
     ]
    }
   ],
   "source": [
    "print(\n",
    "    {\n",
    "        \"precision\": {\n",
    "            \"mean\": f\"{mean_precision:.3f}\",\n",
    "            \"std\": f\"{std_precision:.3f}\",\n",
    "        },\n",
    "        \"recall\": {\n",
    "            \"mean\": f\"{mean_recall:.3f}\",\n",
    "            \"std\": f\"{std_recall:.3f}\",\n",
    "        },\n",
    "        \"f1\": {\n",
    "            \"mean\": f\"{mean_f1:.3f}\",\n",
    "            \"std\": f\"{std_f1:.3f}\",\n",
    "        },\n",
    "        \"model\": \"gemini-2.5-flash-lite-001\",\n",
    "    }\n",
    ")"
   ]
  },
  {
   "cell_type": "code",
   "execution_count": 61,
   "id": "80503997bce5129d",
   "metadata": {
    "ExecuteTime": {
     "end_time": "2025-07-03T17:03:13.848123Z",
     "start_time": "2025-07-03T17:03:13.845525Z"
    }
   },
   "outputs": [
    {
     "name": "stdout",
     "output_type": "stream",
     "text": [
      "Flash2.5:  0.27301191841054256 0.3991116427432217 0.3174188924424244\n"
     ]
    }
   ],
   "source": [
    "print(\"Flash2.5: \", mean_precision, mean_recall, mean_f1)"
   ]
  },
  {
   "cell_type": "code",
   "execution_count": 51,
   "id": "5b2c155f954eb745",
   "metadata": {
    "ExecuteTime": {
     "end_time": "2025-07-03T16:53:55.788629Z",
     "start_time": "2025-07-03T16:53:55.782630Z"
    }
   },
   "outputs": [
    {
     "data": {
      "text/plain": [
       "tensor([[ 5, 50],\n",
       "        [14, 50],\n",
       "        [48, 50],\n",
       "        [13, 50],\n",
       "        [20, 50],\n",
       "        [25, 50],\n",
       "        [28, 50],\n",
       "        [ 6, 50],\n",
       "        [ 3, 50],\n",
       "        [29, 50],\n",
       "        [45, 50],\n",
       "        [23, 50],\n",
       "        [ 9, 50],\n",
       "        [ 7, 50],\n",
       "        [33, 50],\n",
       "        [46, 50],\n",
       "        [15, 50],\n",
       "        [49, 50],\n",
       "        [ 4, 50],\n",
       "        [31, 50],\n",
       "        [10, 50],\n",
       "        [ 0, 50],\n",
       "        [19, 50],\n",
       "        [44, 50],\n",
       "        [39, 50],\n",
       "        [22, 50],\n",
       "        [35, 50],\n",
       "        [26, 50],\n",
       "        [43, 50],\n",
       "        [ 1, 50],\n",
       "        [34, 50],\n",
       "        [17, 50],\n",
       "        [36, 50],\n",
       "        [32, 50],\n",
       "        [37, 50],\n",
       "        [40, 50],\n",
       "        [ 2, 50],\n",
       "        [11, 50],\n",
       "        [47, 50],\n",
       "        [16, 50],\n",
       "        [42, 50],\n",
       "        [ 8, 50],\n",
       "        [18, 50],\n",
       "        [38, 50],\n",
       "        [21, 50],\n",
       "        [12, 50],\n",
       "        [27, 50],\n",
       "        [41, 50],\n",
       "        [24, 50],\n",
       "        [30, 50],\n",
       "        [50,  5],\n",
       "        [50, 14],\n",
       "        [50, 48],\n",
       "        [50, 13],\n",
       "        [50, 20],\n",
       "        [50, 25],\n",
       "        [50, 28],\n",
       "        [50,  6],\n",
       "        [50,  3],\n",
       "        [50, 29],\n",
       "        [50, 45],\n",
       "        [50, 23],\n",
       "        [50,  9],\n",
       "        [50,  7],\n",
       "        [50, 33],\n",
       "        [50, 46],\n",
       "        [50, 15],\n",
       "        [50, 49],\n",
       "        [50,  4],\n",
       "        [50, 31],\n",
       "        [50, 10],\n",
       "        [50,  0],\n",
       "        [50, 19],\n",
       "        [50, 44],\n",
       "        [50, 39],\n",
       "        [50, 22],\n",
       "        [50, 35],\n",
       "        [50, 26],\n",
       "        [50, 43],\n",
       "        [50,  1],\n",
       "        [50, 34],\n",
       "        [50, 17],\n",
       "        [50, 36],\n",
       "        [50, 32],\n",
       "        [50, 37],\n",
       "        [50, 40],\n",
       "        [50,  2],\n",
       "        [50, 11],\n",
       "        [50, 47],\n",
       "        [50, 16],\n",
       "        [50, 42],\n",
       "        [50,  8],\n",
       "        [50, 18],\n",
       "        [50, 38],\n",
       "        [50, 21],\n",
       "        [50, 12],\n",
       "        [50, 27],\n",
       "        [50, 41],\n",
       "        [50, 24],\n",
       "        [50, 30]])"
      ]
     },
     "execution_count": 51,
     "metadata": {},
     "output_type": "execute_result"
    }
   ],
   "source": [
    "G.gt_prod_price_edge_index.T"
   ]
  },
  {
   "cell_type": "code",
   "execution_count": 52,
   "id": "661b6b759cdf1ef",
   "metadata": {
    "ExecuteTime": {
     "end_time": "2025-07-03T16:54:08.274207Z",
     "start_time": "2025-07-03T16:54:08.271922Z"
    }
   },
   "outputs": [
    {
     "data": {
      "text/plain": [
       "0.0"
      ]
     },
     "execution_count": 52,
     "metadata": {},
     "output_type": "execute_result"
    }
   ],
   "source": "precision"
  },
  {
   "cell_type": "code",
   "execution_count": null,
   "id": "5705e984bcb04404",
   "metadata": {},
   "outputs": [],
   "source": []
  }
 ],
 "metadata": {
  "kernelspec": {
   "display_name": "Python 3",
   "language": "python",
   "name": "python3"
  },
  "language_info": {
   "codemirror_mode": {
    "name": "ipython",
    "version": 2
   },
   "file_extension": ".py",
   "mimetype": "text/x-python",
   "name": "python",
   "nbconvert_exporter": "python",
   "pygments_lexer": "ipython2",
   "version": "2.7.6"
  }
 },
 "nbformat": 4,
 "nbformat_minor": 5
}
