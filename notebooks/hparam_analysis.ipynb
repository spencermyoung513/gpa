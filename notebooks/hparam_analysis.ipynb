{
 "cells": [
  {
   "cell_type": "code",
   "execution_count": null,
   "id": "d094da25",
   "metadata": {},
   "outputs": [],
   "source": [
    "from pathlib import Path\n",
    "import wandb\n",
    "from wandb.apis.public import Run \n",
    "import pandas as pd\n",
    "import shap\n",
    "import numpy as np\n",
    "from sklearn.ensemble import RandomForestRegressor\n",
    "from tqdm import tqdm\n",
    "\n",
    "api = wandb.Api()"
   ]
  },
  {
   "cell_type": "code",
   "execution_count": null,
   "id": "77ec07b5",
   "metadata": {},
   "outputs": [],
   "source": [
    "config_dir = Path(\"configs/hparam-search\")\n",
    "features = [\n",
    "    \"larger_mlp\",\n",
    "    \"gnn\",\n",
    "    \"invariant_centroids\",\n",
    "    \"pooled_by_upc\",\n",
    "    \"initial_connection_indicator\",\n",
    "    \"balanced_edge_sampling\",\n",
    "    \"focal_loss\",\n",
    "]\n",
    "rows = []\n",
    "for x in config_dir.iterdir():\n",
    "    ternary_name = x.stem\n",
    "    row = {}\n",
    "    for feature, code in zip(features, map(int, ternary_name)):\n",
    "        if feature != \"initial_connection_indicator\":\n",
    "            row[feature] = float(code)\n",
    "        else:\n",
    "            if code == 0:\n",
    "                row[\"initial_connection_none\"] = 1.0\n",
    "                row[\"initial_connection_nearest\"] = 0.0\n",
    "                row[\"initial_connection_nearest_below\"] = 0.0\n",
    "                row[\"initial_connection_nearest_below_per_group\"] = 0.0\n",
    "            elif code == 1:\n",
    "                row[\"initial_connection_none\"] = 0.0\n",
    "                row[\"initial_connection_nearest\"] = 1.0\n",
    "                row[\"initial_connection_nearest_below\"] = 0.0\n",
    "                row[\"initial_connection_nearest_below_per_group\"] = 0.0\n",
    "            elif code == 2:\n",
    "                row[\"initial_connection_none\"] = 0.0\n",
    "                row[\"initial_connection_nearest\"] = 0.0\n",
    "                row[\"initial_connection_nearest_below\"] = 1.0\n",
    "                row[\"initial_connection_nearest_below_per_group\"] = 0.0\n",
    "            elif code == 3:\n",
    "                row[\"initial_connection_none\"] = 0.0\n",
    "                row[\"initial_connection_nearest\"] = 0.0\n",
    "                row[\"initial_connection_nearest_below\"] = 0.0\n",
    "                row[\"initial_connection_nearest_below_per_group\"] = 1.0\n",
    "            else:\n",
    "                raise RuntimeError(\"Unexpected ternary encountered.\")\n",
    "    runs: list[Run] = api.runs(\n",
    "        path=\"price-attribution\",\n",
    "        filters={\"displayName\": ternary_name, \"tags\": \"EVAL\"}\n",
    "    )\n",
    "    if len(runs) == 0:\n",
    "        print(f\"No runs yet for {ternary_name}\")\n",
    "        continue\n",
    "    else:\n",
    "        run = sorted(runs, key=lambda x: x.summary[\"_timestamp\"], reverse=True)[0]\n",
    "        row[\"f1\"] = runs[0].summary[\"test/f1_mean\"]\n",
    "    rows.append(row)\n",
    "results = pd.DataFrame(rows)"
   ]
  },
  {
   "cell_type": "code",
   "execution_count": null,
   "id": "16a4f666",
   "metadata": {},
   "outputs": [],
   "source": [
    "def get_feature_importances(X: np.ndarray, y: np.ndarray, num_bootstraps: int = 50, random_state: int = 1998):\n",
    "    rng = np.random.default_rng(random_state)\n",
    "    n_samples, n_features = X.shape\n",
    "    importances = np.zeros((num_bootstraps, n_features))\n",
    "    \n",
    "    for i in tqdm(range(num_bootstraps)):\n",
    "        idx = rng.choice(n_samples, n_samples, replace=True)\n",
    "        X_boot, y_boot = X[idx], y[idx]\n",
    "        \n",
    "        model = RandomForestRegressor(n_estimators=100, random_state=rng.integers(1e9))\n",
    "        model.fit(X_boot, y_boot)\n",
    "        \n",
    "        explainer = shap.TreeExplainer(model)\n",
    "        shap_values = explainer.shap_values(X_boot)\n",
    "        importances[i] = np.mean(np.abs(shap_values), axis=0)\n",
    "    \n",
    "    return importances"
   ]
  },
  {
   "cell_type": "code",
   "execution_count": null,
   "id": "9e4cee62",
   "metadata": {},
   "outputs": [],
   "source": [
    "X = results.iloc[:, :-1]\n",
    "y = results.iloc[:, -1]\n",
    "model = RandomForestRegressor()\n",
    "model.fit(X, y)\n",
    "explainer = shap.TreeExplainer(model)\n",
    "explanation = explainer(X)"
   ]
  },
  {
   "cell_type": "code",
   "execution_count": null,
   "id": "9af96043",
   "metadata": {},
   "outputs": [],
   "source": [
    "shap.plots.beeswarm(explanation)"
   ]
  },
  {
   "cell_type": "code",
   "execution_count": null,
   "id": "ee185ec5",
   "metadata": {},
   "outputs": [],
   "source": [
    "clustering = shap.utils.hclust(X)\n",
    "shap.plots.bar(explanation, clustering=clustering, clustering_cutoff=0.5)"
   ]
  },
  {
   "cell_type": "code",
   "execution_count": null,
   "id": "ca0507c4",
   "metadata": {},
   "outputs": [],
   "source": [
    "import ipywidgets as widgets\n",
    "from IPython.display import display, clear_output\n",
    "\n",
    "slider = widgets.IntSlider(value=0, min=0, max=len(explanation) - 1, step=1, description='Index')\n",
    "output = widgets.Output()\n",
    "\n",
    "def update_plot(change):\n",
    "    with output:\n",
    "        clear_output(wait=True)\n",
    "        shap.plots.waterfall(explanation[slider.value])\n",
    "\n",
    "slider.observe(update_plot, names='value')\n",
    "\n",
    "display(slider, output)\n",
    "update_plot(None)"
   ]
  }
 ],
 "metadata": {
  "kernelspec": {
   "display_name": "gpa",
   "language": "python",
   "name": "python3"
  },
  "language_info": {
   "codemirror_mode": {
    "name": "ipython",
    "version": 3
   },
   "file_extension": ".py",
   "mimetype": "text/x-python",
   "name": "python",
   "nbconvert_exporter": "python",
   "pygments_lexer": "ipython3",
   "version": "3.10.17"
  }
 },
 "nbformat": 4,
 "nbformat_minor": 5
}
