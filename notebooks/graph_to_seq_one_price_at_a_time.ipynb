{
 "cells": [
  {
   "cell_type": "markdown",
   "id": "7f15d45f",
   "metadata": {},
   "source": [
    "This notebook visualizes the following graph sequencing strategy: Out of all true prod-price connections, add the one with the smallest Euclidean distance at each step.\n",
    "\n",
    "For the sake of visual clarity, edges between product nodes with the same UPC are not shown (we only visualize prod-price edges)."
   ]
  },
  {
   "cell_type": "code",
   "execution_count": 18,
   "id": "ed4377f2",
   "metadata": {},
   "outputs": [],
   "source": [
    "from typing import Iterator\n",
    "import ipywidgets as widgets\n",
    "from IPython.display import display, clear_output\n",
    "from pathlib import Path\n",
    "from tempfile import TemporaryDirectory\n",
    "from tqdm.notebook import tqdm\n",
    "\n",
    "import imageio\n",
    "import matplotlib.pyplot as plt\n",
    "import pandas as pd\n",
    "import torch\n",
    "\n",
    "from gpa.datasets.attribution import PriceAttributionDataset, DetectionGraph"
   ]
  },
  {
   "cell_type": "code",
   "execution_count": 19,
   "id": "4b0fce30",
   "metadata": {},
   "outputs": [],
   "source": [
    "while True:\n",
    "    dataset_dir = Path(input(\"Input the dataset directory: \"))\n",
    "    if dataset_dir.exists() and dataset_dir.is_dir():\n",
    "        break\n",
    "    print(\"Invalid dataset directory. Please try again.\")\n",
    "\n",
    "dataset = PriceAttributionDataset(root=dataset_dir)\n",
    "products_df = pd.read_csv(\n",
    "    dataset_dir / \"raw\" / \"product_boxes.csv\", index_col=\"attributionset_id\"\n",
    ")"
   ]
  },
  {
   "cell_type": "code",
   "execution_count": 20,
   "id": "27aea738",
   "metadata": {},
   "outputs": [],
   "source": [
    "def order_prod_nodes_per_price(graph: DetectionGraph) -> dict[int, list[int]]:\n",
    "    \"\"\"For each price tag node in the graph, get an ordering of its associated product nodes based on their vertical distance to the price tag node.\n",
    "\n",
    "    Args:\n",
    "        graph (DetectionGraph): The graph to process.\n",
    "\n",
    "    Returns:\n",
    "        dict[int, list[int]]: A mapping from price tag node indices to lists of product node indices, ordered by their vertical distance to the price tag node.\n",
    "    \"\"\"\n",
    "    gt_edges = set(map(tuple, graph.gt_prod_price_edge_index.T.tolist()))\n",
    "    price_prod_dists = torch.cdist(\n",
    "        graph.x[graph.price_indices, 1].unsqueeze(1),\n",
    "        graph.x[graph.product_indices, 1].unsqueeze(1),\n",
    "        p=1,\n",
    "    )\n",
    "    prod_indices_sorted_by_dist = graph.product_indices[\n",
    "        torch.argsort(price_prod_dists, dim=-1)\n",
    "    ]\n",
    "    node_sequences = {}\n",
    "    for i in range(len(graph.price_indices)):\n",
    "        price_idx = graph.price_indices[i].item()\n",
    "        node_sequences[price_idx] = [\n",
    "            prod_idx\n",
    "            for prod_idx in prod_indices_sorted_by_dist[i].tolist()\n",
    "            if (price_idx, prod_idx) in gt_edges or (prod_idx, price_idx) in gt_edges\n",
    "        ]\n",
    "    return node_sequences\n",
    "\n",
    "\n",
    "def graph_to_seq(graph: DetectionGraph) -> Iterator[DetectionGraph]:\n",
    "    \"\"\"Convert a graph into a sequence of subgraphs by incrementally adding edges\n",
    "    between price tags and their associated products.\n",
    "\n",
    "    Args:\n",
    "        graph (DetectionGraph): Original detection graph.\n",
    "\n",
    "    Yields:\n",
    "        Iterator[DetectionGraph]: Sequence of subgraphs with progressively more edges.\n",
    "    \"\"\"\n",
    "    centroid_dists = torch.cdist(graph.x[:, :2], graph.x[:, :2], p=2)\n",
    "    gt_src, gt_dst = graph.gt_prod_price_edge_index\n",
    "    # We skip every other because our edge index is undirected (so we need to skip duplicates).\n",
    "    edge_order = torch.argsort(centroid_dists[gt_src, gt_dst], dim=-1)[::2]\n",
    "    curr_graph_edge_index = graph.shared_upc_edge_index\n",
    "\n",
    "    for t in range(len(edge_order) + 1):\n",
    "        if t > 0:  # At t=0, we just take the curr_graph_edge_index as is.\n",
    "            new_edge = graph.gt_prod_price_edge_index[:, edge_order[t - 1]]\n",
    "            curr_graph_edge_index = torch.cat(\n",
    "                [curr_graph_edge_index, new_edge.view(2, 1)], dim=1\n",
    "            )\n",
    "\n",
    "        yield DetectionGraph(\n",
    "            x=graph.x,\n",
    "            edge_index=curr_graph_edge_index.clone(),\n",
    "            edge_attr=torch.ones(curr_graph_edge_index.shape[1]),\n",
    "            graph_id=graph.graph_id,\n",
    "            bbox_ids=graph.bbox_ids,\n",
    "            product_indices=graph.product_indices,\n",
    "            price_indices=graph.price_indices,\n",
    "            shared_upc_edge_index=graph.shared_upc_edge_index,\n",
    "            gt_prod_price_edge_index=graph.gt_prod_price_edge_index,\n",
    "        )"
   ]
  },
  {
   "cell_type": "code",
   "execution_count": 21,
   "id": "32c90fc1",
   "metadata": {},
   "outputs": [],
   "source": [
    "def interactive_graph_viewer(graph_sequence: Iterator[DetectionGraph]):\n",
    "    class Viewer:\n",
    "        def __init__(self):\n",
    "            self.graphs: list[DetectionGraph] = []\n",
    "            self.idx = 0\n",
    "            self.output = widgets.Output()\n",
    "            self.back_button = widgets.Button(description=\"<\")\n",
    "            self.forward_button = widgets.Button(description=\">\")\n",
    "\n",
    "            self.back_button.on_click(self.on_back)\n",
    "            self.forward_button.on_click(self.on_forward)\n",
    "\n",
    "            self.controls = widgets.HBox([self.back_button, self.forward_button])\n",
    "            self.load_graph(0)\n",
    "            self.show_graph()\n",
    "            display(widgets.VBox([self.controls, self.output]))\n",
    "\n",
    "        def load_graph(self, target_idx: int):\n",
    "            while target_idx >= len(self.graphs):\n",
    "                try:\n",
    "                    self.graphs.append(next(graph_sequence))\n",
    "                except StopIteration:\n",
    "                    break\n",
    "\n",
    "        def show_graph(self):\n",
    "            with self.output:\n",
    "                clear_output(wait=True)\n",
    "                graph = self.graphs[self.idx]\n",
    "                image_path = (\n",
    "                    dataset_dir.parent\n",
    "                    / products_df.loc[graph.graph_id][\"local_path\"].values[0]\n",
    "                )\n",
    "                image = plt.imread(image_path)\n",
    "                fig, axs = plt.subplots(1, 2, figsize=(10, 4))\n",
    "                graph.plot(ax=axs[0], prod_price_only=True)\n",
    "                axs[0].set_title(graph.graph_id, fontsize=10)\n",
    "                axs[1].imshow(image)\n",
    "                axs[1].axis(\"off\")\n",
    "                fig.tight_layout()\n",
    "                fig.set_dpi(100)\n",
    "                plt.show()\n",
    "\n",
    "        def on_forward(self, _):\n",
    "            self.load_graph(self.idx + 1)\n",
    "            if self.idx + 1 < len(self.graphs):\n",
    "                self.idx += 1\n",
    "                self.show_graph()\n",
    "\n",
    "        def on_back(self, _):\n",
    "            if self.idx > 0:\n",
    "                self.idx -= 1\n",
    "                self.show_graph()\n",
    "\n",
    "    Viewer()\n",
    "\n",
    "\n",
    "def interactive_graph_selector():\n",
    "    index_slider = widgets.IntSlider(\n",
    "        value=0,\n",
    "        min=0,\n",
    "        max=len(dataset) - 1,\n",
    "        step=1,\n",
    "        description=\"Graph Index:\",\n",
    "        continuous_update=False,\n",
    "    )\n",
    "    output = widgets.Output()\n",
    "\n",
    "    def on_index_change(change):\n",
    "        if change[\"name\"] == \"value\":  # only respond to actual value changes\n",
    "            output.clear_output()\n",
    "            with output:\n",
    "                graph_seq = graph_to_seq(dataset[change[\"new\"]])\n",
    "                interactive_graph_viewer(graph_seq)\n",
    "\n",
    "    index_slider.observe(on_index_change, names=\"value\")\n",
    "    on_index_change({\"name\": \"value\", \"new\": index_slider.value})\n",
    "\n",
    "    display(widgets.VBox([index_slider, output]))"
   ]
  },
  {
   "cell_type": "code",
   "execution_count": 22,
   "id": "cb27648b",
   "metadata": {},
   "outputs": [
    {
     "data": {
      "application/vnd.jupyter.widget-view+json": {
       "model_id": "d40e570d1c134d368b924b01e17e2f05",
       "version_major": 2,
       "version_minor": 0
      },
      "text/plain": [
       "VBox(children=(IntSlider(value=0, continuous_update=False, description='Graph Index:', max=188), Output()))"
      ]
     },
     "metadata": {},
     "output_type": "display_data"
    }
   ],
   "source": [
    "interactive_graph_selector()"
   ]
  },
  {
   "cell_type": "code",
   "execution_count": 23,
   "id": "7222e335",
   "metadata": {},
   "outputs": [],
   "source": [
    "def generate_graph_sequence_video(\n",
    "    graph_sequence: Iterator[DetectionGraph], output_path: str, fps: int = 2\n",
    "):\n",
    "    with TemporaryDirectory() as tmpdir:\n",
    "        tmpdir = Path(tmpdir)\n",
    "        with imageio.get_writer(output_path, fps=fps) as writer:\n",
    "            for i, graph in enumerate(graph_sequence):\n",
    "                image_path = (\n",
    "                    dataset_dir.parent\n",
    "                    / products_df.loc[graph.graph_id][\"local_path\"].values[0]\n",
    "                )\n",
    "                image = plt.imread(image_path)\n",
    "\n",
    "                fig, axs = plt.subplots(1, 2, figsize=(9, 4))\n",
    "                graph.plot(ax=axs[0], prod_price_only=True)\n",
    "                axs[0].set_title(graph.graph_id, fontsize=10)\n",
    "                axs[1].imshow(image)\n",
    "                axs[1].axis(\"off\")\n",
    "                fig.tight_layout()\n",
    "                fig.set_dpi(100)\n",
    "\n",
    "                frame_file = tmpdir / f\"frame_{i:04d}.png\"\n",
    "                fig.savefig(frame_file)\n",
    "                plt.close(fig)\n",
    "                writer.append_data(imageio.v2.imread(frame_file))\n",
    "\n",
    "    print(f\"Video saved to {output_path}\")"
   ]
  },
  {
   "cell_type": "code",
   "execution_count": 24,
   "id": "4cca1342",
   "metadata": {},
   "outputs": [
    {
     "data": {
      "application/vnd.jupyter.widget-view+json": {
       "model_id": "1b50ec0ee5fe4e87bca455efcb99db0d",
       "version_major": 2,
       "version_minor": 0
      },
      "text/plain": [
       "  0%|          | 0/5 [00:00<?, ?it/s]"
      ]
     },
     "metadata": {},
     "output_type": "display_data"
    },
    {
     "name": "stderr",
     "output_type": "stream",
     "text": [
      "IMAGEIO FFMPEG_WRITER WARNING: input image is not divisible by macro_block_size=16, resizing from (900, 400) to (912, 400) to ensure video compatibility with most codecs and players. To prevent resizing, make your input image divisible by the macro_block_size or set the macro_block_size to 1 (risking incompatibility).\n",
      "IMAGEIO FFMPEG_WRITER WARNING: input image is not divisible by macro_block_size=16, resizing from (900, 400) to (912, 400) to ensure video compatibility with most codecs and players. To prevent resizing, make your input image divisible by the macro_block_size or set the macro_block_size to 1 (risking incompatibility).\n"
     ]
    },
    {
     "name": "stdout",
     "output_type": "stream",
     "text": [
      "Video saved to one_at_a_time_0.mp4\n"
     ]
    },
    {
     "name": "stderr",
     "output_type": "stream",
     "text": [
      "IMAGEIO FFMPEG_WRITER WARNING: input image is not divisible by macro_block_size=16, resizing from (900, 400) to (912, 400) to ensure video compatibility with most codecs and players. To prevent resizing, make your input image divisible by the macro_block_size or set the macro_block_size to 1 (risking incompatibility).\n"
     ]
    },
    {
     "name": "stdout",
     "output_type": "stream",
     "text": [
      "Video saved to one_at_a_time_1.mp4\n"
     ]
    },
    {
     "name": "stderr",
     "output_type": "stream",
     "text": [
      "IMAGEIO FFMPEG_WRITER WARNING: input image is not divisible by macro_block_size=16, resizing from (900, 400) to (912, 400) to ensure video compatibility with most codecs and players. To prevent resizing, make your input image divisible by the macro_block_size or set the macro_block_size to 1 (risking incompatibility).\n"
     ]
    },
    {
     "name": "stdout",
     "output_type": "stream",
     "text": [
      "Video saved to one_at_a_time_4.mp4\n"
     ]
    },
    {
     "name": "stderr",
     "output_type": "stream",
     "text": [
      "IMAGEIO FFMPEG_WRITER WARNING: input image is not divisible by macro_block_size=16, resizing from (900, 400) to (912, 400) to ensure video compatibility with most codecs and players. To prevent resizing, make your input image divisible by the macro_block_size or set the macro_block_size to 1 (risking incompatibility).\n"
     ]
    },
    {
     "name": "stdout",
     "output_type": "stream",
     "text": [
      "Video saved to one_at_a_time_12.mp4\n",
      "Video saved to one_at_a_time_15.mp4\n"
     ]
    }
   ],
   "source": [
    "indices_of_interest = [0, 1, 4, 12, 15]\n",
    "for idx in tqdm(indices_of_interest):\n",
    "    generate_graph_sequence_video(\n",
    "        graph_to_seq(dataset[idx]), f\"one_at_a_time_{idx}.mp4\", fps=10\n",
    "    )"
   ]
  }
 ],
 "metadata": {
  "kernelspec": {
   "display_name": ".venv",
   "language": "python",
   "name": "python3"
  },
  "language_info": {
   "codemirror_mode": {
    "name": "ipython",
    "version": 3
   },
   "file_extension": ".py",
   "mimetype": "text/x-python",
   "name": "python",
   "nbconvert_exporter": "python",
   "pygments_lexer": "ipython3",
   "version": "3.10.17"
  }
 },
 "nbformat": 4,
 "nbformat_minor": 5
}
