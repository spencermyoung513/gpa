{
 "cells": [
  {
   "cell_type": "code",
   "execution_count": 54,
   "id": "initial_id",
   "metadata": {
    "ExecuteTime": {
     "end_time": "2025-07-03T19:29:50.600787Z",
     "start_time": "2025-07-03T19:29:50.597485Z"
    },
    "collapsed": true
   },
   "outputs": [],
   "source": [
    "import json\n",
    "import pandas as pd\n",
    "from PIL import Image\n",
    "from pathlib import Path\n",
    "from gpa.datasets.attribution import PriceAttributionDataset\n",
    "from tqdm import tqdm\n",
    "from google import genai\n",
    "from google.genai import types"
   ]
  },
  {
   "cell_type": "code",
   "execution_count": 55,
   "id": "41974145c05e80b0",
   "metadata": {
    "ExecuteTime": {
     "end_time": "2025-07-03T19:29:51.145019Z",
     "start_time": "2025-07-03T19:29:51.000262Z"
    }
   },
   "outputs": [],
   "source": [
    "dataset_dir = Path(\"../data/price-graphs-ii/test\")\n",
    "dataset = PriceAttributionDataset(root=dataset_dir)\n",
    "products_df = pd.read_csv(\n",
    "    dataset_dir / \"raw\" / \"product_boxes.csv\",\n",
    "    dtype={\"ml_label_name\": str},\n",
    ")\n",
    "price_df = pd.read_csv(\n",
    "    dataset_dir / \"raw\" / \"price_boxes.csv\",\n",
    ")\n",
    "joined = price_df.merge(\n",
    "    products_df[[\"attributionset_id\", \"image_bucket_path\"]], on=\"attributionset_id\"\n",
    ")\n",
    "joined[\"image_id\"] = joined.image_bucket_path.str.split(\"/\").str[-1]\n",
    "joined.drop(columns=[\"image_bucket_path\"], inplace=True)\n",
    "price_df = joined.drop_duplicates()\n",
    "gemini = genai.Client(vertexai=True, project=\"dai-ultra\", location=\"us-central1\")"
   ]
  },
  {
   "cell_type": "code",
   "execution_count": 56,
   "id": "bff40665572fd9ba",
   "metadata": {
    "ExecuteTime": {
     "end_time": "2025-07-03T19:29:52.622118Z",
     "start_time": "2025-07-03T19:29:52.618939Z"
    }
   },
   "outputs": [],
   "source": [
    "generate_content_config = types.GenerateContentConfig(\n",
    "    temperature=1,\n",
    "    top_p=0.95,\n",
    "    max_output_tokens=8192,\n",
    "    response_modalities=[\"TEXT\"],\n",
    "    response_mime_type=\"application/json\",\n",
    ")"
   ]
  },
  {
   "cell_type": "code",
   "execution_count": 57,
   "id": "79cbfacc83eeb0b",
   "metadata": {
    "ExecuteTime": {
     "end_time": "2025-07-03T19:29:53.173948Z",
     "start_time": "2025-07-03T19:29:53.171048Z"
    }
   },
   "outputs": [],
   "source": [
    "def get_text_from_crop(crop: Image.Image, model: str):\n",
    "    import io\n",
    "\n",
    "    prompt = open(\"../data/text-matching/product_price_tag_extraction.txt\", \"r\").read()\n",
    "    buffer = io.BytesIO()\n",
    "    crop.save(buffer, format=\"JPEG\")\n",
    "    image_bytes = buffer.getvalue()\n",
    "    raw = gemini.models.generate_content(\n",
    "        model=model,\n",
    "        config=generate_content_config,\n",
    "        contents=[\n",
    "            types.Content(\n",
    "                role=\"user\",\n",
    "                parts=[\n",
    "                    types.Part.from_text(text=prompt),\n",
    "                    types.Part.from_bytes(\n",
    "                        data=image_bytes,\n",
    "                        mime_type=\"image/jpeg\",\n",
    "                    ),\n",
    "                ],\n",
    "            )\n",
    "        ],\n",
    "    )\n",
    "    cleaned = raw.text.strip().removeprefix(\"```json\").removesuffix(\"```\").strip()\n",
    "    return json.loads(cleaned)"
   ]
  },
  {
   "cell_type": "code",
   "execution_count": 61,
   "id": "f1772a6638bb14aa",
   "metadata": {
    "ExecuteTime": {
     "end_time": "2025-07-03T20:05:24.131631Z",
     "start_time": "2025-07-03T19:37:41.110978Z"
    }
   },
   "outputs": [
    {
     "name": "stderr",
     "output_type": "stream",
     "text": [
      "100%|██████████| 325/325 [27:43<00:00,  5.12s/it]  \n"
     ]
    }
   ],
   "source": [
    "with open(\"../data/text-matching/price_tag_product_metadata.json\", \"r\") as f:\n",
    "    cache = json.load(f)\n",
    "for image_id, group in tqdm(price_df.groupby(\"image_id\"), total=325):\n",
    "    image_path = Path(dataset_dir.as_posix().replace(\"test\", \"images\")) / image_id\n",
    "    image = Image.open(image_path)\n",
    "    for index, row in group.iterrows():\n",
    "        if row.price_bbox_id in cache:\n",
    "            continue\n",
    "        coords = (\n",
    "            row.min_x * image.width,\n",
    "            row.min_y * image.height,\n",
    "            row.max_x * image.width,\n",
    "            row.max_y * image.height,\n",
    "        )\n",
    "        price_crop = image.crop(coords)\n",
    "        extracted_text = get_text_from_crop(\n",
    "            price_crop, model=\"gemini-2.0-flash-lite-001\"\n",
    "        )\n",
    "        cache[row.price_bbox_id] = extracted_text"
   ]
  },
  {
   "cell_type": "code",
   "execution_count": 62,
   "id": "cb15eed684dd25b4",
   "metadata": {
    "ExecuteTime": {
     "end_time": "2025-07-03T20:05:28.098663Z",
     "start_time": "2025-07-03T20:05:28.091006Z"
    }
   },
   "outputs": [],
   "source": [
    "with open(\"../data/text-matching/price_tag_product_metadata.json\", \"w\") as f:\n",
    "    json.dump(cache, f, indent=2)\n",
    "# with open(\"../data/text-matching/price_tag_product_metadata.json\", \"r\") as f:\n",
    "#     cache = json.load(f)"
   ]
  },
  {
   "cell_type": "code",
   "execution_count": 60,
   "id": "f3d5991f29f813af",
   "metadata": {
    "ExecuteTime": {
     "end_time": "2025-07-03T19:37:22.974695Z",
     "start_time": "2025-07-03T19:37:22.971304Z"
    }
   },
   "outputs": [],
   "source": [
    "with open(\"../data/text-matching/price_tag_product_metadata.json\", \"w\") as f:\n",
    "    json.dump(cache, f, indent=2)"
   ]
  },
  {
   "cell_type": "code",
   "execution_count": null,
   "id": "e2e18d1b3e73c67",
   "metadata": {},
   "outputs": [],
   "source": []
  }
 ],
 "metadata": {
  "kernelspec": {
   "display_name": "Python 3",
   "language": "python",
   "name": "python3"
  },
  "language_info": {
   "codemirror_mode": {
    "name": "ipython",
    "version": 2
   },
   "file_extension": ".py",
   "mimetype": "text/x-python",
   "name": "python",
   "nbconvert_exporter": "python",
   "pygments_lexer": "ipython2",
   "version": "2.7.6"
  }
 },
 "nbformat": 4,
 "nbformat_minor": 5
}
